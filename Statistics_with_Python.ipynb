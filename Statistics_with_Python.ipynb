{
 "cells": [
  {
   "cell_type": "markdown",
   "id": "62276ab8-b545-4ab7-86be-348a0783bc34",
   "metadata": {},
   "source": [
    "# [**Statistics with Python**](#Statistics-with-Python)\n",
    "\n",
    "Implement statistical methods with numpy.\n",
    "\n",
    "***WIP*** Aug 2023"
   ]
  },
  {
   "cell_type": "markdown",
   "id": "aad31ba8-e18f-45e7-b593-aad6dc0a1b65",
   "metadata": {},
   "source": []
  },
  {
   "cell_type": "markdown",
   "id": "999b55cf-dbba-4f98-b6d7-44aa9b75cfdf",
   "metadata": {},
   "source": [
    "## [**Section 1 Standard Scores**](#Section-1-Standard-Scores)\n",
    "\n",
    "1. [Standard Scores](#Standard-Scores)\n",
    "2. [Characteristics of Standard Score](#Characteristics-of-Standard-Score)\n",
    "3. [For Further Exploration](#For-Further-Exploration)"
   ]
  },
  {
   "cell_type": "markdown",
   "id": "37314562-6633-41b3-ab60-e5e36241e81f",
   "metadata": {},
   "source": [
    "### [**Standard Scores**](#Section-1-Standard-Scores)"
   ]
  },
  {
   "cell_type": "markdown",
   "id": "efbf65be-2c81-4d68-ac6f-e779453b65a2",
   "metadata": {},
   "source": []
  },
  {
   "cell_type": "code",
   "execution_count": 1,
   "id": "24a54f5b-aad1-4f2a-a8b3-6cb5f360e3a5",
   "metadata": {},
   "outputs": [],
   "source": [
    "from sklearn.preprocessing import StandardScaler\n",
    "import pandas as pd\n",
    "import numpy as np\n",
    "\n",
    "import matplotlib.pyplot as plt\n",
    "import seaborn as sns\n",
    "sns.set_theme(style=\"white\", context=\"talk\")"
   ]
  },
  {
   "cell_type": "markdown",
   "id": "25b43928-64d3-48b6-b90f-7cf2ca7b2c2e",
   "metadata": {},
   "source": []
  },
  {
   "cell_type": "markdown",
   "id": "19a74e77-9b81-4181-bf51-354dbb0617a8",
   "metadata": {},
   "source": [
    "\n",
    "**What are standard scores?**\n",
    "\n",
    "\n",
    "A standard score is also known as a *z-score*. It measures exactly how many standard deviations above or below the mean a data point is.\n",
    "\n",
    "The formula for calculating a z-score:\n",
    "\n",
    "```\n",
    "standard score = ((each value) - (mean)) / standard deviation\n",
    "```\n",
    "​\n",
    "The same formula written with symbols:\n",
    "\n",
    "$$\n",
    "\\mu = \\frac{1}{n}{\\sum_{i=1}^{n}X_{i}}\n",
    "$$\n",
    "\n",
    "$$ \n",
    "\\sigma = \\sqrt{\\frac{\\sum_{i=1}^{n}(X_{i}-\\frac{\\sum_{i=1}^{n}X_{i}}{n})^2}{n}}\n",
    "$$\n",
    "\n",
    "$$\n",
    "z = Standard Score(X_{i}) =  \\frac{ X_{i} - \\mu}{\\sigma}\n",
    "$$\n",
    "\n",
    "* z is the \"z-score\" (Standard Score).\n",
    "* \\${X_{i}}\\$ is the value to be standardized.\n",
    "* $\\mu$ ('mu\") is the mean.\n",
    "* $\\sigma$ (\"sigma\") is the standard deviation.\n",
    "\n",
    "---\n",
    "\n",
    "* A ***positive*** z-score indicates the data point is **above** average or mean.\n",
    "* A ***negative*** z-score indicatess the data point is **below** average or mean.\n",
    "* A ***0*** z-score indicates the data point is **on** the average or mean.\n",
    "\n",
    "We usually meet numerical features with different scalers, units or both, when dealing with ML cases. In such scenarios, how to compare the importance of these values? *StandardScaler()*, from scikit-learn, could be a good choice. \n",
    "\n",
    "StandardScaler removes the mean and scales the data to unit variance. It means that, after transformation, the original dataset would be with $\\mu=0\\$ and \\$sigma=1\\$. \n",
    "\n",
    "Let's first implement our own method from scratch by numpy, then move to StandardScaler()."
   ]
  },
  {
   "cell_type": "code",
   "execution_count": 2,
   "id": "a7d14141-7d2c-4477-9a8e-52dc72df2ae0",
   "metadata": {},
   "outputs": [],
   "source": [
    "# %load code/utils.py\n",
    "import numpy as np\n",
    "\n",
    "class StandardScore:\n",
    "    \"\"\"Implement standardization with numpy.\n",
    "    \n",
    "    When instance of this class is created it will initialize an empty\n",
    "    instance. The mu and sigms will be computed until fit() is called.\n",
    "\n",
    "    transform() will output standardized results as a numpy array.\n",
    "\n",
    "    fit_transform() will process fit() and transform() in one go.\n",
    "    \"\"\"\n",
    "    \n",
    "    def __init__(self):\n",
    "        \"\"\"Initialization.\"\"\"\n",
    "        pass\n",
    "        \n",
    "    def fit(self, arr):\n",
    "        \"\"\"Convert input as numpy array, then calculate the mu and sigma.\"\"\"\n",
    "        self.arr = np.array(arr)\n",
    "        self.mu = self.arr.mean()\n",
    "        self.sigma = self.arr.std()\n",
    "\n",
    "    def transform(self):\n",
    "        \"\"\"Perform standardization .\"\"\"\n",
    "        return np.array([(i - self.mu)/self.sigma for i in self.arr])\n",
    "\n",
    "    def fit_transform(self, arr):\n",
    "        \"\"\"Fit to data, followed by standardization.\"\"\"\n",
    "        \n",
    "        self.fit(arr)\n",
    "        return self.transform()\n",
    "\n"
   ]
  },
  {
   "cell_type": "code",
   "execution_count": 3,
   "id": "528bad23-6279-4444-8d0b-9995ded302b1",
   "metadata": {},
   "outputs": [
    {
     "data": {
      "text/html": [
       "<div>\n",
       "<style scoped>\n",
       "    .dataframe tbody tr th:only-of-type {\n",
       "        vertical-align: middle;\n",
       "    }\n",
       "\n",
       "    .dataframe tbody tr th {\n",
       "        vertical-align: top;\n",
       "    }\n",
       "\n",
       "    .dataframe thead th {\n",
       "        text-align: right;\n",
       "    }\n",
       "</style>\n",
       "<table border=\"1\" class=\"dataframe\">\n",
       "  <thead>\n",
       "    <tr style=\"text-align: right;\">\n",
       "      <th></th>\n",
       "      <th>Student</th>\n",
       "      <th>Native_Language</th>\n",
       "      <th>Foreign_Language</th>\n",
       "      <th>Geography</th>\n",
       "      <th>Biology</th>\n",
       "    </tr>\n",
       "  </thead>\n",
       "  <tbody>\n",
       "    <tr>\n",
       "      <th>0</th>\n",
       "      <td>Alfred</td>\n",
       "      <td>90</td>\n",
       "      <td>71</td>\n",
       "      <td>73</td>\n",
       "      <td>59</td>\n",
       "    </tr>\n",
       "    <tr>\n",
       "      <th>1</th>\n",
       "      <td>Karl</td>\n",
       "      <td>81</td>\n",
       "      <td>90</td>\n",
       "      <td>61</td>\n",
       "      <td>73</td>\n",
       "    </tr>\n",
       "    <tr>\n",
       "      <th>2</th>\n",
       "      <td>A</td>\n",
       "      <td>73</td>\n",
       "      <td>79</td>\n",
       "      <td>14</td>\n",
       "      <td>47</td>\n",
       "    </tr>\n",
       "    <tr>\n",
       "      <th>3</th>\n",
       "      <td>B</td>\n",
       "      <td>97</td>\n",
       "      <td>70</td>\n",
       "      <td>41</td>\n",
       "      <td>38</td>\n",
       "    </tr>\n",
       "    <tr>\n",
       "      <th>4</th>\n",
       "      <td>C</td>\n",
       "      <td>85</td>\n",
       "      <td>67</td>\n",
       "      <td>49</td>\n",
       "      <td>63</td>\n",
       "    </tr>\n",
       "    <tr>\n",
       "      <th>5</th>\n",
       "      <td>D</td>\n",
       "      <td>60</td>\n",
       "      <td>66</td>\n",
       "      <td>87</td>\n",
       "      <td>56</td>\n",
       "    </tr>\n",
       "    <tr>\n",
       "      <th>6</th>\n",
       "      <td>E</td>\n",
       "      <td>74</td>\n",
       "      <td>60</td>\n",
       "      <td>69</td>\n",
       "      <td>15</td>\n",
       "    </tr>\n",
       "    <tr>\n",
       "      <th>7</th>\n",
       "      <td>F</td>\n",
       "      <td>64</td>\n",
       "      <td>83</td>\n",
       "      <td>65</td>\n",
       "      <td>53</td>\n",
       "    </tr>\n",
       "    <tr>\n",
       "      <th>8</th>\n",
       "      <td>G</td>\n",
       "      <td>72</td>\n",
       "      <td>57</td>\n",
       "      <td>36</td>\n",
       "      <td>80</td>\n",
       "    </tr>\n",
       "    <tr>\n",
       "      <th>9</th>\n",
       "      <td>H</td>\n",
       "      <td>67</td>\n",
       "      <td>85</td>\n",
       "      <td>7</td>\n",
       "      <td>50</td>\n",
       "    </tr>\n",
       "    <tr>\n",
       "      <th>10</th>\n",
       "      <td>I</td>\n",
       "      <td>87</td>\n",
       "      <td>93</td>\n",
       "      <td>53</td>\n",
       "      <td>41</td>\n",
       "    </tr>\n",
       "    <tr>\n",
       "      <th>11</th>\n",
       "      <td>J</td>\n",
       "      <td>78</td>\n",
       "      <td>89</td>\n",
       "      <td>100</td>\n",
       "      <td>62</td>\n",
       "    </tr>\n",
       "    <tr>\n",
       "      <th>12</th>\n",
       "      <td>K</td>\n",
       "      <td>85</td>\n",
       "      <td>78</td>\n",
       "      <td>57</td>\n",
       "      <td>44</td>\n",
       "    </tr>\n",
       "    <tr>\n",
       "      <th>13</th>\n",
       "      <td>L</td>\n",
       "      <td>96</td>\n",
       "      <td>74</td>\n",
       "      <td>45</td>\n",
       "      <td>26</td>\n",
       "    </tr>\n",
       "    <tr>\n",
       "      <th>14</th>\n",
       "      <td>M</td>\n",
       "      <td>77</td>\n",
       "      <td>65</td>\n",
       "      <td>56</td>\n",
       "      <td>91</td>\n",
       "    </tr>\n",
       "    <tr>\n",
       "      <th>15</th>\n",
       "      <td>N</td>\n",
       "      <td>100</td>\n",
       "      <td>78</td>\n",
       "      <td>34</td>\n",
       "      <td>35</td>\n",
       "    </tr>\n",
       "    <tr>\n",
       "      <th>16</th>\n",
       "      <td>O</td>\n",
       "      <td>92</td>\n",
       "      <td>53</td>\n",
       "      <td>37</td>\n",
       "      <td>53</td>\n",
       "    </tr>\n",
       "    <tr>\n",
       "      <th>17</th>\n",
       "      <td>P</td>\n",
       "      <td>86</td>\n",
       "      <td>80</td>\n",
       "      <td>70</td>\n",
       "      <td>68</td>\n",
       "    </tr>\n",
       "  </tbody>\n",
       "</table>\n",
       "</div>"
      ],
      "text/plain": [
       "   Student  Native_Language  Foreign_Language  Geography  Biology\n",
       "0   Alfred               90                71         73       59\n",
       "1     Karl               81                90         61       73\n",
       "2        A               73                79         14       47\n",
       "3        B               97                70         41       38\n",
       "4        C               85                67         49       63\n",
       "5        D               60                66         87       56\n",
       "6        E               74                60         69       15\n",
       "7        F               64                83         65       53\n",
       "8        G               72                57         36       80\n",
       "9        H               67                85          7       50\n",
       "10       I               87                93         53       41\n",
       "11       J               78                89        100       62\n",
       "12       K               85                78         57       44\n",
       "13       L               96                74         45       26\n",
       "14       M               77                65         56       91\n",
       "15       N              100                78         34       35\n",
       "16       O               92                53         37       53\n",
       "17       P               86                80         70       68"
      ]
     },
     "execution_count": 3,
     "metadata": {},
     "output_type": "execute_result"
    }
   ],
   "source": [
    "df = pd.read_csv('data/Test_Scores_out_of_100.csv')\n",
    "df"
   ]
  },
  {
   "cell_type": "markdown",
   "id": "57e40ea0-90cf-4ea7-826c-5ac7d10bbf45",
   "metadata": {},
   "source": [
    "Suppose Alfred and Karl are classmates. Alfred has a 90 score on 'Native Language', Karl has a 90 score on 'Foreign Language' Do they performance the same? Now please skip the idea to calculate the distance between the score and average/mean. z-score will answer our question far more better. "
   ]
  },
  {
   "cell_type": "code",
   "execution_count": 4,
   "id": "4380916b-12ea-4a5d-97dd-1faea4594f95",
   "metadata": {},
   "outputs": [],
   "source": [
    "# Native_Language\n",
    "n_arr = df.iloc[:,1].values\n",
    "\n",
    "#Foreign_Language \n",
    "f_arr = df.iloc[:,2].values\n",
    "\n",
    "#Geography\n",
    "g_arr = df.iloc[:,-2].values\n",
    "\n",
    "#Biology\n",
    "b_arr = df.iloc[:,-1].values"
   ]
  },
  {
   "cell_type": "code",
   "execution_count": 5,
   "id": "00d2c519-e356-45e8-abcf-ea9c8aa31095",
   "metadata": {},
   "outputs": [],
   "source": [
    "from python_scripts.utils import StandardScore"
   ]
  },
  {
   "cell_type": "code",
   "execution_count": 6,
   "id": "eb2aa110-c1b0-4dff-8604-3b21d6ab2815",
   "metadata": {},
   "outputs": [],
   "source": [
    "def get_zscore(arr):\n",
    "    ss = StandardScore()\n",
    "    return ss.fit_transform(arr)"
   ]
  },
  {
   "cell_type": "code",
   "execution_count": 7,
   "id": "7075e9b5-3608-44b5-ad7a-f493a5f879b6",
   "metadata": {},
   "outputs": [
    {
     "data": {
      "text/plain": [
       "array([ 0.77005354, -0.02961744, -0.7404361 ,  1.39201986,  0.32579188,\n",
       "       -1.89551641, -0.65158377, -1.54010708, -0.82928843, -1.27355009,\n",
       "        0.50349655, -0.29617444,  0.32579188,  1.30316753, -0.38502677,\n",
       "        1.65857686,  0.9477582 ,  0.41464421])"
      ]
     },
     "execution_count": 7,
     "metadata": {},
     "output_type": "execute_result"
    }
   ],
   "source": [
    "get_zscore(n_arr)"
   ]
  },
  {
   "cell_type": "code",
   "execution_count": 8,
   "id": "68c649ff-1b08-4cbb-b642-533a593d48fd",
   "metadata": {},
   "outputs": [
    {
     "data": {
      "text/plain": [
       "array([-0.29617444,  1.39201986,  0.41464421, -0.38502677, -0.65158377,\n",
       "       -0.7404361 , -1.27355009,  0.77005354, -1.54010708,  0.9477582 ,\n",
       "        1.65857686,  1.30316753,  0.32579188, -0.02961744, -0.82928843,\n",
       "        0.32579188, -1.89551641,  0.50349655])"
      ]
     },
     "execution_count": 8,
     "metadata": {},
     "output_type": "execute_result"
    }
   ],
   "source": [
    "get_zscore(f_arr)"
   ]
  },
  {
   "cell_type": "code",
   "execution_count": 9,
   "id": "a3fff5fd-162f-409b-b7e9-acb4b91614fc",
   "metadata": {},
   "outputs": [
    {
     "data": {
      "text/html": [
       "<div>\n",
       "<style scoped>\n",
       "    .dataframe tbody tr th:only-of-type {\n",
       "        vertical-align: middle;\n",
       "    }\n",
       "\n",
       "    .dataframe tbody tr th {\n",
       "        vertical-align: top;\n",
       "    }\n",
       "\n",
       "    .dataframe thead th {\n",
       "        text-align: right;\n",
       "    }\n",
       "</style>\n",
       "<table border=\"1\" class=\"dataframe\">\n",
       "  <thead>\n",
       "    <tr style=\"text-align: right;\">\n",
       "      <th></th>\n",
       "      <th>Alfred Native_Language</th>\n",
       "      <th>Karl Foreign_Language</th>\n",
       "    </tr>\n",
       "  </thead>\n",
       "  <tbody>\n",
       "    <tr>\n",
       "      <th>score</th>\n",
       "      <td>90.000000</td>\n",
       "      <td>90.00000</td>\n",
       "    </tr>\n",
       "    <tr>\n",
       "      <th>z-score</th>\n",
       "      <td>0.770054</td>\n",
       "      <td>1.39202</td>\n",
       "    </tr>\n",
       "  </tbody>\n",
       "</table>\n",
       "</div>"
      ],
      "text/plain": [
       "         Alfred Native_Language  Karl Foreign_Language\n",
       "score                 90.000000               90.00000\n",
       "z-score                0.770054                1.39202"
      ]
     },
     "execution_count": 9,
     "metadata": {},
     "output_type": "execute_result"
    }
   ],
   "source": [
    "pd.DataFrame({\"Alfred Native_Language\":[90, get_zscore(n_arr)[0]] , \n",
    "              \"Karl Foreign_Language\":[90, get_zscore(f_arr)[1]]}, \n",
    "             index=['score', 'z-score'])"
   ]
  },
  {
   "cell_type": "code",
   "execution_count": 10,
   "id": "241c10c4-e91b-46f7-ad02-046959de01c5",
   "metadata": {},
   "outputs": [],
   "source": [
    "# Plot z-score\n",
    "def plot_zscores(alist, clist):\n",
    "    \"\"\"Accept 2 parameters.\n",
    "    alist for data.\n",
    "    clist for columns name.\n",
    "    tle, the title name. optional.\n",
    "    \"\"\"\n",
    "    res = []\n",
    "    # Loop over input list\n",
    "    for a in alist:\n",
    "        res.append(list(get_zscore(a)))\n",
    "    # Combine together\n",
    "    df = pd.DataFrame(res, index=clist)\n",
    "\n",
    "    # Draw a heatmap with the numeric values in each cell\n",
    "    f, ax = plt.subplots(figsize=(20, 2))\n",
    "    sns.heatmap(df, annot=True,  linewidths=.5, ax=ax,)\n",
    "\n",
    "    # ax.set_title(\"{}\".format('TitleName'),fontsize=20)\n",
    "    ax.tick_params(axis='x', rotation=0)\n",
    "    ax.tick_params(axis='y', rotation=0)\n",
    "    ax.set_xlabel(\"Students\")\n",
    "    ax.set_ylabel(\"z-score\")"
   ]
  },
  {
   "cell_type": "code",
   "execution_count": 11,
   "id": "ee6b546a-12dd-4661-95ac-ad0547d9f1e0",
   "metadata": {},
   "outputs": [
    {
     "data": {
      "image/png": "[encoded data removed]",
      "text/plain": [
       "<Figure size 1440x144 with 2 Axes>"
      ]
     },
     "metadata": {
      "needs_background": "light"
     },
     "output_type": "display_data"
    }
   ],
   "source": [
    "alist = [n_arr, f_arr]\n",
    "clist = ['n_zscore', 'f_zscore']\n",
    "plot_zscores(alist, clist)"
   ]
  },
  {
   "cell_type": "code",
   "execution_count": 12,
   "id": "377bdd4d-bd9f-4e54-a929-f27a8a5f0e43",
   "metadata": {},
   "outputs": [
    {
     "data": {
      "image/png": "[encoded data removed]",
      "text/plain": [
       "<Figure size 864x288 with 1 Axes>"
      ]
     },
     "metadata": {},
     "output_type": "display_data"
    }
   ],
   "source": [
    "# Alternative plot\n",
    "sns.set_theme(style=\"white\", context=\"talk\")\n",
    "\n",
    "res = pd.DataFrame(get_zscore(n_arr), columns=['n_zscore'])\n",
    "f, ax1 = plt.subplots(1, 1, figsize=(12, 4), sharex=True)\n",
    "sns.barplot(data=res, x=res.index, y='n_zscore', palette=\"rocket\",)\n",
    "sns.despine(bottom=True)\n",
    "plt.tight_layout(h_pad=2)"
   ]
  },
  {
   "cell_type": "code",
   "execution_count": 13,
   "id": "3c73c979-d642-4879-b08b-d89a6dc516cc",
   "metadata": {},
   "outputs": [
    {
     "data": {
      "image/png": "[encoded data removed]",
      "text/plain": [
       "<Figure size 864x288 with 1 Axes>"
      ]
     },
     "metadata": {},
     "output_type": "display_data"
    }
   ],
   "source": [
    "# Alternative plot\n",
    "sns.set_theme(style=\"white\", context=\"talk\")\n",
    "\n",
    "res = pd.DataFrame(get_zscore(f_arr), columns=['f_zscore'])\n",
    "f, ax1 = plt.subplots(1, 1, figsize=(12, 4), sharex=True)\n",
    "sns.barplot(data=res, x=res.index, y='f_zscore', palette=\"rocket\",)\n",
    "sns.despine(bottom=True)\n",
    "plt.tight_layout(h_pad=2)"
   ]
  },
  {
   "cell_type": "code",
   "execution_count": null,
   "id": "bad63547-3f65-49e8-8b40-82f254741b99",
   "metadata": {},
   "outputs": [],
   "source": []
  },
  {
   "cell_type": "markdown",
   "id": "2474d04c-73a6-400a-9c8a-b05d37ac634b",
   "metadata": {},
   "source": [
    "Karl's z -score is higher. Although they both have 90, but the average/mean of \"Native Language\" and \"Foreign Language\" are different. "
   ]
  },
  {
   "cell_type": "code",
   "execution_count": 14,
   "id": "243f7083-1bb7-41f6-9f08-03b86be3f371",
   "metadata": {},
   "outputs": [
    {
     "name": "stdout",
     "output_type": "stream",
     "text": [
      "Mean of Native Language: 81.33\n",
      "Mean of Foreign Language: 74.33\n"
     ]
    }
   ],
   "source": [
    "print('Mean of Native Language: {:.2f}\\nMean of Foreign Language: {:.2f}'.format( n_arr.mean(), f_arr.mean() ))"
   ]
  },
  {
   "cell_type": "markdown",
   "id": "179d74e7-3909-4246-b518-1100653d752b",
   "metadata": {},
   "source": [
    "\"Geography\" and \"Biology\" have the same average/mean of the class. Alfred has a 73 of \"Geography\". Karl has a 73 of \"Biology\". Who does perform better? Calculate z-score again."
   ]
  },
  {
   "cell_type": "code",
   "execution_count": 15,
   "id": "c8fd3010-f622-4b6a-9091-a386f43ca9ac",
   "metadata": {},
   "outputs": [
    {
     "name": "stdout",
     "output_type": "stream",
     "text": [
      "Mean of Geography: 53.00\n",
      "Mean of Biology: 53.00\n"
     ]
    }
   ],
   "source": [
    "print('Mean of Geography: {:.2f}\\nMean of Biology: {:.2f}'.format( g_arr.mean(), b_arr.mean() ))"
   ]
  },
  {
   "cell_type": "code",
   "execution_count": 16,
   "id": "5bddc413-ba0e-4389-ba9f-4ab44a9e6d5a",
   "metadata": {},
   "outputs": [
    {
     "data": {
      "text/plain": [
       "array([ 0.87941002,  0.35176401, -1.71484953, -0.52764601, -0.175882  ,\n",
       "        1.49499703,  0.70352801,  0.52764601, -0.74749851, -2.02264304,\n",
       "        0.        ,  2.06661354,  0.175882  , -0.35176401,  0.1319115 ,\n",
       "       -0.83543952, -0.70352801,  0.74749851])"
      ]
     },
     "execution_count": 16,
     "metadata": {},
     "output_type": "execute_result"
    }
   ],
   "source": [
    "get_zscore(g_arr)"
   ]
  },
  {
   "cell_type": "code",
   "execution_count": 17,
   "id": "d5ebc2a9-fc2c-4ac0-a3ac-9e171665ec6e",
   "metadata": {},
   "outputs": [
    {
     "data": {
      "text/plain": [
       "array([ 0.32819623,  1.09398744, -0.32819623, -0.82049058,  0.54699372,\n",
       "        0.16409812, -2.07857613,  0.        ,  1.47688304, -0.16409812,\n",
       "       -0.65639246,  0.49229435, -0.49229435, -1.47688304,  2.07857613,\n",
       "       -0.98458869,  0.        ,  0.82049058])"
      ]
     },
     "execution_count": 17,
     "metadata": {},
     "output_type": "execute_result"
    }
   ],
   "source": [
    "get_zscore(b_arr)"
   ]
  },
  {
   "cell_type": "code",
   "execution_count": 18,
   "id": "9e6751d9-6be5-4ef7-ba6d-a9f6580c1826",
   "metadata": {},
   "outputs": [
    {
     "data": {
      "image/png": "[encoded data removed]",
      "text/plain": [
       "<Figure size 1440x144 with 2 Axes>"
      ]
     },
     "metadata": {},
     "output_type": "display_data"
    }
   ],
   "source": [
    "alist = [g_arr, b_arr]\n",
    "clist = ['g_zscore', 'b_zscore']\n",
    "plot_zscores(alist, clist)"
   ]
  },
  {
   "cell_type": "code",
   "execution_count": 19,
   "id": "e844dd6c-b8a0-4fb7-965f-5172639db722",
   "metadata": {},
   "outputs": [
    {
     "data": {
      "image/png": "[encoded data removed]",
      "text/plain": [
       "<Figure size 864x288 with 1 Axes>"
      ]
     },
     "metadata": {},
     "output_type": "display_data"
    }
   ],
   "source": [
    "# Alternative plot\n",
    "sns.set_theme(style=\"white\", context=\"talk\")\n",
    "res = pd.DataFrame(get_zscore(g_arr), columns=['g_zscore'])\n",
    "\n",
    "f, ax1 = plt.subplots(1, 1, figsize=(12, 4), sharex=True)\n",
    "sns.barplot(data=res, x=res.index, y='g_zscore', palette=\"rocket\",)\n",
    "\n",
    "sns.despine(bottom=True)\n",
    "# plt.setp(f.axes, yticks=[])\n",
    "plt.tight_layout(h_pad=2)"
   ]
  },
  {
   "cell_type": "code",
   "execution_count": 20,
   "id": "09638615-b50f-4f2c-9f48-8e6c85270cb8",
   "metadata": {},
   "outputs": [
    {
     "data": {
      "image/png": "[encoded data removed]",
      "text/plain": [
       "<Figure size 864x288 with 1 Axes>"
      ]
     },
     "metadata": {},
     "output_type": "display_data"
    }
   ],
   "source": [
    "# Alternative plot\n",
    "sns.set_theme(style=\"white\", context=\"talk\")\n",
    "res = pd.DataFrame(get_zscore(b_arr), columns=['b_zscore'])\n",
    "\n",
    "f, ax1 = plt.subplots(1, 1, figsize=(12, 4), sharex=True)\n",
    "sns.barplot(data=res, x=res.index, y='b_zscore', palette=\"rocket\",)\n",
    "\n",
    "sns.despine(bottom=True)\n",
    "# plt.setp(f.axes, yticks=[])\n",
    "plt.tight_layout(h_pad=2)"
   ]
  },
  {
   "cell_type": "code",
   "execution_count": 21,
   "id": "10dbe26f-7f9c-4d8e-8ecc-10a309c02111",
   "metadata": {},
   "outputs": [
    {
     "data": {
      "text/html": [
       "<div>\n",
       "<style scoped>\n",
       "    .dataframe tbody tr th:only-of-type {\n",
       "        vertical-align: middle;\n",
       "    }\n",
       "\n",
       "    .dataframe tbody tr th {\n",
       "        vertical-align: top;\n",
       "    }\n",
       "\n",
       "    .dataframe thead th {\n",
       "        text-align: right;\n",
       "    }\n",
       "</style>\n",
       "<table border=\"1\" class=\"dataframe\">\n",
       "  <thead>\n",
       "    <tr style=\"text-align: right;\">\n",
       "      <th></th>\n",
       "      <th>Alfred Geography</th>\n",
       "      <th>Karl Biology</th>\n",
       "    </tr>\n",
       "  </thead>\n",
       "  <tbody>\n",
       "    <tr>\n",
       "      <th>score</th>\n",
       "      <td>90.00000</td>\n",
       "      <td>90.000000</td>\n",
       "    </tr>\n",
       "    <tr>\n",
       "      <th>z-score</th>\n",
       "      <td>0.87941</td>\n",
       "      <td>1.093987</td>\n",
       "    </tr>\n",
       "  </tbody>\n",
       "</table>\n",
       "</div>"
      ],
      "text/plain": [
       "         Alfred Geography  Karl Biology\n",
       "score            90.00000     90.000000\n",
       "z-score           0.87941      1.093987"
      ]
     },
     "execution_count": 21,
     "metadata": {},
     "output_type": "execute_result"
    }
   ],
   "source": [
    "pd.DataFrame({\"Alfred Geography\":[90, get_zscore(g_arr)[0]] , \n",
    "              \"Karl Biology\":[90, get_zscore(b_arr)[1]]}, \n",
    "             index=['score', 'z-score'])"
   ]
  },
  {
   "cell_type": "markdown",
   "id": "a27e542f-834f-458f-b87e-4a4f43bf0158",
   "metadata": {},
   "source": [
    "This time, their score have the same distance to average/mean. But the \"standard deviation\" or std are quite different."
   ]
  },
  {
   "cell_type": "code",
   "execution_count": 22,
   "id": "2aa92140-d439-4676-b21b-a26468f27201",
   "metadata": {},
   "outputs": [
    {
     "data": {
      "text/html": [
       "<div>\n",
       "<style scoped>\n",
       "    .dataframe tbody tr th:only-of-type {\n",
       "        vertical-align: middle;\n",
       "    }\n",
       "\n",
       "    .dataframe tbody tr th {\n",
       "        vertical-align: top;\n",
       "    }\n",
       "\n",
       "    .dataframe thead th {\n",
       "        text-align: right;\n",
       "    }\n",
       "</style>\n",
       "<table border=\"1\" class=\"dataframe\">\n",
       "  <thead>\n",
       "    <tr style=\"text-align: right;\">\n",
       "      <th></th>\n",
       "      <th>Standard Deviation</th>\n",
       "    </tr>\n",
       "  </thead>\n",
       "  <tbody>\n",
       "    <tr>\n",
       "      <th>Geography</th>\n",
       "      <td>22.742520</td>\n",
       "    </tr>\n",
       "    <tr>\n",
       "      <th>Biology</th>\n",
       "      <td>18.281746</td>\n",
       "    </tr>\n",
       "  </tbody>\n",
       "</table>\n",
       "</div>"
      ],
      "text/plain": [
       "           Standard Deviation\n",
       "Geography           22.742520\n",
       "Biology             18.281746"
      ]
     },
     "execution_count": 22,
     "metadata": {},
     "output_type": "execute_result"
    }
   ],
   "source": [
    "pd.DataFrame({\"Geography\":[g_arr.std()], \n",
    "              \"Biology\":[b_arr.std()]}, \n",
    "             index=[\"Standard Deviation\"]).T"
   ]
  },
  {
   "cell_type": "code",
   "execution_count": null,
   "id": "b4de1657-b4fc-4d8d-8334-c5e024d11f82",
   "metadata": {},
   "outputs": [],
   "source": []
  },
  {
   "cell_type": "markdown",
   "id": "cc8db6be-2fb8-4b6d-9201-5032640ac752",
   "metadata": {},
   "source": [
    "### [**Characteristics of Standard Score**](#Section-1-Standard-Score)"
   ]
  },
  {
   "cell_type": "markdown",
   "id": "439ae34e-b119-4c24-b46f-1345a56ef5b2",
   "metadata": {},
   "source": [
    "1. The arithmetic mean $\\mu$ of the standard score is always **0**, and the standard deviation $\\sigma$ is always **1**, no matter what scaler of our variable is. We could compare the scores of two test with totally different scaler. Such as ant is more powerful than a cat. Since ant could lift the weight many time ...\n",
    "\n",
    "2. The arithmeticb mean $\\mu$ of the standard score is always **0**, and the standard deviation $\\sigma$ is always **1**, no matter what unit of our variable is measured.\n",
    "\n",
    "distance or weathear\n",
    "\n",
    "You can compare values with different units, such as batting average and number of home runs.\n",
    "\n",
    "\n",
    "We could have a look at a scikit-learn's case to get better understanding.\n"
   ]
  },
  {
   "cell_type": "markdown",
   "id": "25288215-12eb-40b3-88e7-74bea1db77ee",
   "metadata": {},
   "source": [
    "### [**For Further Exploration**](#Section-1-Standard-Score)\n",
    "\n",
    "WIP"
   ]
  },
  {
   "cell_type": "code",
   "execution_count": null,
   "id": "079957a1-0405-4f24-8711-4dd2583e467e",
   "metadata": {},
   "outputs": [],
   "source": []
  },
  {
   "cell_type": "code",
   "execution_count": null,
   "id": "deb0421a-3411-4ec3-9de8-6a40f5330eee",
   "metadata": {},
   "outputs": [],
   "source": []
  },
  {
   "cell_type": "code",
   "execution_count": null,
   "id": "88972978-0057-44ce-8301-34b02f73ae91",
   "metadata": {},
   "outputs": [],
   "source": []
  },
  {
   "cell_type": "code",
   "execution_count": null,
   "id": "42ef4099-8f71-4936-87d9-a5e6a540ef51",
   "metadata": {},
   "outputs": [],
   "source": []
  },
  {
   "cell_type": "code",
   "execution_count": null,
   "id": "bf1868f0-c18a-4be2-8496-085ae873b3a7",
   "metadata": {},
   "outputs": [],
   "source": []
  }
 ],
 "metadata": {
  "kernelspec": {
   "display_name": "Python 3 (ipykernel)",
   "language": "python",
   "name": "python3"
  },
  "language_info": {
   "codemirror_mode": {
    "name": "ipython",
    "version": 3
   },
   "file_extension": ".py",
   "mimetype": "text/x-python",
   "name": "python",
   "nbconvert_exporter": "python",
   "pygments_lexer": "ipython3",
   "version": "3.10.12"
  }
 },
 "nbformat": 4,
 "nbformat_minor": 5
}
